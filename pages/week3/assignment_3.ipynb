{
 "cells": [
  {
   "cell_type": "markdown",
   "id": "17f767cc-f7af-4697-9312-32e9b50f001d",
   "metadata": {},
   "source": [
    "**Assignment 3: Variational quantum algorithms**\n",
    "\n",
    "In this assignment, we are going to explore the variational quantum eigensolver together.\n",
    "\n",
    "We will start by looking at a concrete example together, and then you will write some extensions yourself. Remember, if anything here confuses you, make sure to consult the [IBM variational quantum algorithms course](https://learning.quantum.ibm.com/course/variational-algorithm-design).\n",
    "\n",
    "Ok, lets go!\n",
    "\n",
    "The first thing we do, is import the necessary packages."
   ]
  },
  {
   "cell_type": "code",
   "execution_count": 69,
   "id": "d35ea7b9-a672-475c-9220-636d5baf605d",
   "metadata": {},
   "outputs": [],
   "source": [
    "from qiskit import QuantumCircuit\n",
    "from qiskit.quantum_info import SparsePauliOp\n",
    "from qiskit.circuit.library import TwoLocal\n",
    "from qiskit import *\n",
    "from qiskit.quantum_info.operators import Operator, Pauli\n",
    "from qiskit.quantum_info import SparsePauliOp\n",
    "import numpy as np\n",
    "from scipy.linalg import expm\n",
    "import scipy.linalg as la\n",
    "from scipy.optimize import minimize\n",
    "\n",
    "from qiskit_aer.primitives import Estimator\n",
    "estimator = Estimator(approximation=True)"
   ]
  },
  {
   "cell_type": "markdown",
   "id": "6fee0050-3fa3-418f-9ee2-358bb97dcfe2",
   "metadata": {},
   "source": [
    "The next thing we are going to do is create a **cost function**, which takes in:\n",
    "\n",
    " - the parameter values of our parameterized quantum circuit (our ansatz)\n",
    " - the ansatz circuit itself\n",
    " - the Hamiltonian whose ground state we would like to find.\n",
    " - A qiskit `estimator` object, which we use to calculate the expectation value of the Hamiltonian with respect to the parameterized state.\n",
    "\n",
    "The cost function then outputs an estimate of the expectation value, which gets fed into the classical optimizer."
   ]
  },
  {
   "cell_type": "code",
   "execution_count": 70,
   "id": "415fb3cb-b0da-4821-9bca-58cdbd540597",
   "metadata": {},
   "outputs": [],
   "source": [
    "def cost_func_vqe(params, ansatz, hamiltonian, estimator):\n",
    "    \"\"\"Return estimate of energy from estimator\n",
    "\n",
    "    Parameters:\n",
    "        params (ndarray): Array of ansatz parameters\n",
    "        ansatz (QuantumCircuit): Parameterized ansatz circuit\n",
    "        hamiltonian (SparsePauliOp): Operator representation of Hamiltonian\n",
    "        estimator (Estimator): Estimator primitive instance\n",
    "\n",
    "    Returns:\n",
    "        float: Energy estimate\n",
    "    \"\"\"\n",
    "    cost = estimator.run(ansatz, hamiltonian, parameter_values=params).result().values[0]\n",
    "    return cost"
   ]
  },
  {
   "cell_type": "markdown",
   "id": "c37fc510-b3e7-4475-9990-1b8062f5c285",
   "metadata": {},
   "source": [
    "Given the cost function, the next thing we are going to do is use the generic function from assignment 2, for generating Hamiltonians of the 1d dimensional transverse field Ising model. For now, these are the Hamiltonians whose ground state energy we would like to find using the variational quantum eigensolver."
   ]
  },
  {
   "cell_type": "code",
   "execution_count": 71,
   "id": "8aa25922-6df4-47bd-aef5-11ec8d994e9e",
   "metadata": {},
   "outputs": [],
   "source": [
    "def get_1d_Ising_hamiltonian(N, J, h):\n",
    "    \n",
    "    # List of Hamiltonian terms as 3-tuples containing\n",
    "    # (1) the Pauli string,\n",
    "    # (2) the qubit indices corresponding to the Pauli string,\n",
    "    # (3) the coefficient.\n",
    "    ZZ_tuples = [('ZZ', [i, i + 1], -J) for i in range(0, N-1)]\n",
    "    X_tuples = [('X', [i], -h) for i in range(0, N)]\n",
    "\n",
    "    # We create the Hamiltonian as a SparsePauliOp, via the method\n",
    "    # `from_sparse_list`, and multiply by the interaction term.\n",
    "    hamiltonian = SparsePauliOp.from_sparse_list([*ZZ_tuples, *X_tuples], num_qubits=N) #Note the clever list concatenation\n",
    "    return hamiltonian.simplify()"
   ]
  },
  {
   "cell_type": "markdown",
   "id": "a8d78e5a-2b22-4f82-b234-56e14ca8bbdb",
   "metadata": {},
   "source": [
    "Ok, we have the cost function, and we have a function for generating Hamiltonians. The next thing we need is to define the parameterized quantum circuit that we will use within the variational quantum algorithm.\n",
    "\n",
    "Below is an example of a specific variational quantum circuit of two qubits which consists of:\n",
    "\n",
    " - A reference unitary which applies an $X$ gate to qubit 0\n",
    " - A variational unitary consisting of two rotation blocks, with an entangling block in the middle. Each rotation block consists of a layer of $R_Z$ rotations, followed by a later of $R_Y$ rotations.\n",
    "\n"
   ]
  },
  {
   "cell_type": "code",
   "execution_count": 72,
   "id": "fdbdfba8-d00c-4056-871e-c726c7579f5f",
   "metadata": {},
   "outputs": [
    {
     "data": {
      "image/png": "[encoded data removed]",
      "text/plain": [
       "<Figure size 621.739x200.667 with 1 Axes>"
      ]
     },
     "execution_count": 72,
     "metadata": {},
     "output_type": "execute_result"
    }
   ],
   "source": [
    "reference_circuit = QuantumCircuit(2)\n",
    "reference_circuit.x(0)\n",
    "\n",
    "variational_form = TwoLocal(\n",
    "    2,\n",
    "    rotation_blocks=[\"rz\",\"rx\"],\n",
    "    entanglement_blocks=\"cx\",\n",
    "    entanglement=\"linear\",\n",
    "    reps=1,\n",
    ")\n",
    "ansatz = reference_circuit.compose(variational_form)\n",
    "ansatz.decompose().draw('mpl')"
   ]
  },
  {
   "cell_type": "markdown",
   "id": "c873f3df-ffaf-4916-9254-1160e4c827a3",
   "metadata": {},
   "source": [
    "Now we have all the ingredients to use the variational quantum eigensolver to find the ground state of a 2 qubit 1-dimensional transverse field ising model..."
   ]
  },
  {
   "cell_type": "code",
   "execution_count": 73,
   "id": "f1867095-0f76-44ef-9998-d8c4555e26f8",
   "metadata": {},
   "outputs": [],
   "source": [
    "Hamiltonian = get_1d_Ising_hamiltonian(2,1,0)       # Fetch an instance of a 2-qubit Ising Hamiltonian\n",
    "\n",
    "x0 = np.ones(8)                                      # initial values for the variational parameters\n",
    "\n",
    "result = minimize(cost_func_vqe, x0, args=(ansatz, Hamiltonian, estimator), method=\"COBYLA\")      # Run the VQE"
   ]
  },
  {
   "cell_type": "code",
   "execution_count": 74,
   "id": "b3806e30-3742-44fd-a499-a9663fed15f9",
   "metadata": {},
   "outputs": [
    {
     "name": "stdout",
     "output_type": "stream",
     "text": [
      " message: Optimization terminated successfully.\n",
      " success: True\n",
      "  status: 1\n",
      "     fun: -0.9999999630626717\n",
      "       x: [ 1.994e+00  1.108e+00  1.572e+00  3.677e-01  1.077e+00\n",
      "            2.222e+00  2.950e-01  1.742e-01]\n",
      "    nfev: 305\n",
      "   maxcv: 0.0\n"
     ]
    }
   ],
   "source": [
    "print(result)"
   ]
  },
  {
   "cell_type": "markdown",
   "id": "8ac75641-b2c4-459d-b916-f74ae2e76820",
   "metadata": {},
   "source": [
    "----------------------\n",
    "**Tasks**\n",
    "\n",
    "For all the tasks below, write your answers in notebook blocks beneath the task description. If you have to write code, write code, and if you have to write explanations or text, use markdown with LaTex.\n",
    "\n",
    "\n",
    "---------------------------\n",
    "**Task 1**\n",
    "\n",
    "We have used a very specific variational quantum circuit. Your first task is to write a function called `create_ansatz` which takes in hyper-parameters, and outputs a parameterized QuantumCircuit object which we will use as an ansatz. In particular, your function should take in the following parameters.\n",
    "\n",
    " - Number of qubits\n",
    " - A Boolean valued variable `reference`: If `reference` is $1$ then an initial layer of $X$ gates should be applied to each qubit. If `reference` is 0 then there should be no initial reference circuit.\n",
    " - A list called `rotations` which contains a subset of the strings $X$,$Y$ and $Z$. If string $A\\in \\{X,Y,Z\\}$ is present in `rotations`, then each rotation layer should contain a layer of $A$ rotation gates. For example, if `rotations=[\"X\",\"Z\"]` then each rotation layer should consist of a layer of $X$ rotations and a layer of $Z$ rotations.\n",
    " - Define one circuit block as a rotation layer followed by an entangling layer. The function should take as input a non-negative integer `num_blocks` which determines how many circuit blocks there are. We will always end with a final rotation layer."
   ]
  },
  {
   "cell_type": "markdown",
   "id": "6f90bb6e-3663-4c7e-aad1-8d6cb5fd43bb",
   "metadata": {},
   "source": [
    "---------------------------\n",
    "**Task 2**\n",
    "\n",
    "Write a function called `run_vqe` which takes in:\n",
    "\n",
    " - A Hamiltonian\n",
    " - An ansatz circuit\n",
    " - a vector of initial parameters\n",
    " - A scipy minimizer method (for example `COBYLA`, `BFGS`, `SLSQP`)\n",
    "\n",
    "and returns as output the converged approximation of the ground state energy, found using the desired optimizer"
   ]
  },
  {
   "cell_type": "markdown",
   "id": "baefc151-a738-49f7-9ad1-170c94328460",
   "metadata": {},
   "source": [
    "---------------------------\n",
    "**Task 3**\n",
    "\n",
    "Use the functions you have written, to do the following:\n",
    "\n",
    "**3.1** Using an ansatz circuit consisting of no reference circuit, and two circuit blocks with only $X$ rotation layers, plot the output groundstate energy obtained via VQE with `COBYLA` of the 1-dimensional transverse field Ising model on 5 qubits, for $J\\in [0,0.25,...,2]$ and $h\\in [0,0.25,...,2]$. Do the same plot buy using the optimizer `BFGS`.\n",
    "\n",
    "**3.2** Create the same plots as in question 3.1, but with an ansatz circuit consisting of no reference circuit, and only one circuit block with $X,Y$ and $Z$ rotations. So again, plot the output groundstate energy of the 1-dimensional transverse field Ising model on 5 qubits, for $J\\in [0,0.25,...,2]$ and $h\\in [0,0.25,...,2]$, using both optimizers.\n"
   ]
  },
  {
   "cell_type": "markdown",
   "id": "fe5c4dfe-b2f1-4bba-a11c-ae68bafaf77c",
   "metadata": {},
   "source": [
    "---------------------------\n",
    "**TASK 4**\n",
    "\n",
    "Write a function called `get_2dimensional_Ising_Hamiltonian` which takes in values $L,J,H$ and outputs a sparse pauli operator for the 2-dimensional transverse field Ising model on a square $L$ by $L$ grid (i.e.with $L^2$ qubits) -- I.e. the Hamiltonian for a square $L$ by $L$ lattice where each qubit (in the bulk of the lattice) interacts with its four nearest neighbour qubits with a $ZZ$ interaction, and each qubit gets acted on via the transverse magnetic field $X$."
   ]
  },
  {
   "cell_type": "markdown",
   "id": "5e7756c8-011f-47c5-9991-214335000edb",
   "metadata": {},
   "source": [
    "---------------------------\n",
    "**TASK 5**\n",
    "\n",
    "Write a pseudocode description, of how the Qiskit `Estimator` object estimates the expectation value of the Hamiltonian from computational basis measurements. In other words, sketch an algorithm one can use to estimate the expectation value of any observable if one can only do computational basis measurements. (Note, you can also add LaTex to the cells to help your explanation!)"
   ]
  },
  {
   "cell_type": "markdown",
   "id": "733cb61c-603c-4681-ac44-d575b8de9945",
   "metadata": {},
   "source": [
    "---------------------------\n",
    "**TASK 6**\n",
    "\n",
    "In June this year IBM [published in Nature](https://www.nature.com/articles/s41586-023-06096-3) the results of an experiment on a 127 qubit quantum computer. (See also the attached paper entitled \"Evidence for the utility of quantum computing before fault tolerance\").\n",
    "\n",
    "Write a summary of the paper in your own words which describes:\n",
    "\n",
    "1. What scientific problem did the paper try to solve? Why is it important or interesting to scientists?\n",
    "2. Which Hamiltonian did they study, and what system does it represent?\n",
    "3. Why does it make sense to use a quantum algorithm for this problem?\n",
    "4. Which quantum algorithm did they run?\n",
    "5. What were the biggest challenges involved in running this algorithm?\n",
    "6. What are the best classical competitors to the quantum algorithm?\n",
    "7. What in your opinion were the biggest shortcomings of the experiment?\n",
    "8. What in your opinion is the most exciting part of the experiment?\n",
    "9. If you could work on one research problem to try improve this experiment, what would it be?"
   ]
  },
  {
   "cell_type": "code",
   "execution_count": null,
   "id": "4621b1c5-e173-4483-8b67-5d4495013ac6",
   "metadata": {},
   "outputs": [],
   "source": []
  },
  {
   "cell_type": "code",
   "execution_count": null,
   "id": "4840e8cf-2021-4d50-9a4d-95fbb2df07d7",
   "metadata": {},
   "outputs": [],
   "source": []
  }
 ],
 "metadata": {
  "kernelspec": {
   "display_name": "Python 3 (ipykernel)",
   "language": "python",
   "name": "python3"
  },
  "language_info": {
   "codemirror_mode": {
    "name": "ipython",
    "version": 3
   },
   "file_extension": ".py",
   "mimetype": "text/x-python",
   "name": "python",
   "nbconvert_exporter": "python",
   "pygments_lexer": "ipython3",
   "version": "3.11.5"
  }
 },
 "nbformat": 4,
 "nbformat_minor": 5
}
